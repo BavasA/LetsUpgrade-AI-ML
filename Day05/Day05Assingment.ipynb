{
  "nbformat": 4,
  "nbformat_minor": 0,
  "metadata": {
    "colab": {
      "name": "Day05Assingment.ipynb",
      "provenance": [],
      "collapsed_sections": []
    },
    "kernelspec": {
      "name": "python3",
      "display_name": "Python 3"
    }
  },
  "cells": [
    {
      "cell_type": "markdown",
      "metadata": {
        "id": "0mpIKot6ON4B",
        "colab_type": "text"
      },
      "source": [
        "1.Write a Python program to find the first 20 non-even prime natural numbers."
      ]
    },
    {
      "cell_type": "code",
      "metadata": {
        "id": "wA_mrm7WOTf9",
        "colab_type": "code",
        "colab": {
          "base_uri": "https://localhost:8080/",
          "height": 35
        },
        "outputId": "6ceb2bd4-3bf6-4bb4-fb17-e3070cbd8151"
      },
      "source": [
        "def isNumPrime(num):\n",
        "    for x in range(2,num):\n",
        "        if(num%x==0):\n",
        "            return False\n",
        "    return True\n",
        "\n",
        "\n",
        "count=1\n",
        "num=2\n",
        "while(count<=20):\n",
        "    if(isNumPrime(num)):\n",
        "        if(num%2!=0):\n",
        "            print(num,end=\" \")\n",
        "            count +=1\n",
        "    num +=1\n",
        "\n",
        "\n",
        "\n"
      ],
      "execution_count": 13,
      "outputs": [
        {
          "output_type": "stream",
          "text": [
            "3 5 7 11 13 17 19 23 29 31 37 41 43 47 53 59 61 67 71 73 "
          ],
          "name": "stdout"
        }
      ]
    },
    {
      "cell_type": "markdown",
      "metadata": {
        "id": "z_JRTeCRTQuW",
        "colab_type": "text"
      },
      "source": [
        "2. Write a Python program to implement 15 functions of string."
      ]
    },
    {
      "cell_type": "code",
      "metadata": {
        "id": "mWOI_We0a8XH",
        "colab_type": "code",
        "colab": {
          "base_uri": "https://localhost:8080/",
          "height": 293
        },
        "outputId": "42c0a6b6-8d48-46a3-a00d-0886a3aaec7d"
      },
      "source": [
        "s=\"Hi All I am learning AI\\ML with Let's Upgrade!!!!!!!!\"\n",
        "print(s.count(\"a\")) # count gives number of occurances of a\n",
        "s=\"hhi All I am learning AI\\ML with Let's Upgrade!!!!!!!!\"\n",
        "print(s.capitalize()) #capitalize makes 1st char to caps\n",
        "print(s.casefold()) #converts to lower case.\n",
        "s = \"Hello\"\n",
        "print(s.center(len(s)+10,\"*\")) #Center adds given char to left and right, 1st param is mandatory which takes total width of string and next is optional which takes the char to fill\n",
        "print(len(s)) # len function gives back the length\n",
        "print((s.lower())) #returns string in lower case\n",
        "print(s.upper()) #retrun string in upper case\n",
        "print(s.find(\"o\")) #find returns the index positon if the char or substring is found else it returns -1\n",
        "print(\"*\".join(s)) # join function is used to create a string bu joining elements from another string\n",
        "print(s.isalpha()) #is alpha returns True if given string has only alpabets\n",
        "print(s.isalnum()) #is alpha returns True if given string has only alpabets or numbers\n",
        "print(s.isdigit()) #is alpha returns True if given string has only numbers\n",
        "s=\"Hello World\"\n",
        "print(s.split(\" \")) #split returns a list by splitting by given delimiter\n",
        "s=\"**Hello world**\"\n",
        "print(s.lstrip(\"*\")) #Strips given char to left of the string, of parameter is not passed it strips of space\n",
        "print(s.rstrip(\"*\")) #Strips given char to right of the string, of parameter is not passed it strips of space"
      ],
      "execution_count": 14,
      "outputs": [
        {
          "output_type": "stream",
          "text": [
            "3\n",
            "Hhi all i am learning ai\\ml with let's upgrade!!!!!!!!\n",
            "hhi all i am learning ai\\ml with let's upgrade!!!!!!!!\n",
            "*****Hello*****\n",
            "5\n",
            "hello\n",
            "HELLO\n",
            "4\n",
            "H*e*l*l*o\n",
            "True\n",
            "True\n",
            "False\n",
            "['Hello', 'World']\n",
            "Hello world**\n",
            "**Hello world\n"
          ],
          "name": "stdout"
        }
      ]
    },
    {
      "cell_type": "markdown",
      "metadata": {
        "id": "c5XE-3yafY1O",
        "colab_type": "text"
      },
      "source": [
        "3.Write a Python program to check if the given string is a Palindrome or Anagram or None of them.Display the message accordingly to the user."
      ]
    },
    {
      "cell_type": "code",
      "metadata": {
        "id": "AMCCsDBAfcAn",
        "colab_type": "code",
        "colab": {
          "base_uri": "https://localhost:8080/",
          "height": 72
        },
        "outputId": "59101516-1a49-410b-a04b-48a3ed47426e"
      },
      "source": [
        "def isPalindrome(s1, s2):\n",
        "    s1=s1.lower()\n",
        "    s2=s2.lower()[::-1]\n",
        "    if(s1==s2):\n",
        "        return True\n",
        "    return False\n",
        "\n",
        "\n",
        "def isAnagram(s1, s2):\n",
        "    s1 = sorted(s1)\n",
        "    s2 = sorted(s2)\n",
        "    if(s1==s2):\n",
        "        return True\n",
        "    return False\n",
        "\n",
        "s1= input(\"Enter String1:\")\n",
        "s2= input(\"Enter String2:\")\n",
        "\n",
        "\n",
        "if(isPalindrome(s1,s2)):\n",
        "    print(\"Given input's are plaindrome\")\n",
        "elif(isAnagram(s1,s2)):\n",
        "    print(\"Given input's are anagram\")\n",
        "else:\n",
        "    print(\"Given input's are neither Palindrome nor anagram\")"
      ],
      "execution_count": 17,
      "outputs": [
        {
          "output_type": "stream",
          "text": [
            "Enter String1:hello\n",
            "Enter String2:olleh\n",
            "Given input's are plaindrome\n"
          ],
          "name": "stdout"
        }
      ]
    },
    {
      "cell_type": "markdown",
      "metadata": {
        "id": "mlosZPdrfozr",
        "colab_type": "text"
      },
      "source": [
        "4.Write a Python's user defined function that removes all the additional characters from the stringand converts it finally to lower case using built-in lower(). eg: If the string is \"Dr. Darshan Ingle@AI-ML Trainer\", then the output be \"drdarshaningleaimltrainer\"."
      ]
    },
    {
      "cell_type": "code",
      "metadata": {
        "id": "Mkc3m6Wrftr3",
        "colab_type": "code",
        "colab": {
          "base_uri": "https://localhost:8080/",
          "height": 54
        },
        "outputId": "396d68a5-f5e8-45d4-8b29-247ebd7ae87f"
      },
      "source": [
        "def removeSpecialChar(input):\n",
        "    s1 = \"\"\n",
        "    for x in input:\n",
        "        if x.isalnum():\n",
        "            s1 = s1 + x\n",
        "    return s1.lower()\n",
        "\n",
        "\n",
        "s = input(\"Enter your input:\")\n",
        "print(removeSpecialChar(s))"
      ],
      "execution_count": 20,
      "outputs": [
        {
          "output_type": "stream",
          "text": [
            "Enter your input:Dr. Darshan Ingle@AI-ML Trainer\n",
            "drdarshaningleaimltrainer\n"
          ],
          "name": "stdout"
        }
      ]
    }
  ]
}