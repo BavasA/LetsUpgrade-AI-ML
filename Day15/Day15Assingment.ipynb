{
 "cells": [
  {
   "cell_type": "markdown",
   "metadata": {},
   "source": [
    "# 1. Create a 3x3x3 array with random values "
   ]
  },
  {
   "cell_type": "code",
   "execution_count": 2,
   "metadata": {},
   "outputs": [
    {
     "data": {
      "text/plain": [
       "array([[[49, 95, 87],\n",
       "        [38, 91, 61],\n",
       "        [40, 56, 60]],\n",
       "\n",
       "       [[85, 12, 44],\n",
       "        [64, 63,  7],\n",
       "        [21, 51, 86]],\n",
       "\n",
       "       [[39, 10, 15],\n",
       "        [66, 39, 21],\n",
       "        [94, 71, 14]]])"
      ]
     },
     "execution_count": 2,
     "metadata": {},
     "output_type": "execute_result"
    }
   ],
   "source": [
    "import numpy as np\n",
    "randnums= np.random.randint(1,100, size=(3,3,3))\n",
    "randnums"
   ]
  },
  {
   "cell_type": "markdown",
   "metadata": {},
   "source": [
    "# 2.Create a 5x5 matrix with values 1,2,3,4 just below the diagonal"
   ]
  },
  {
   "cell_type": "code",
   "execution_count": 17,
   "metadata": {},
   "outputs": [
    {
     "data": {
      "text/plain": [
       "array([[0, 0, 0, 0, 0],\n",
       "       [1, 0, 0, 0, 0],\n",
       "       [0, 2, 0, 0, 0],\n",
       "       [0, 0, 3, 0, 0],\n",
       "       [0, 0, 0, 4, 0]])"
      ]
     },
     "execution_count": 17,
     "metadata": {},
     "output_type": "execute_result"
    }
   ],
   "source": [
    "a= np.zeros((5,5),dtype=int)\n",
    "np.shape(a)[0]\n",
    "for i in range(1,np.shape(a)[0]):\n",
    "    a[i][i-1]=i\n",
    "a"
   ]
  },
  {
   "cell_type": "markdown",
   "metadata": {},
   "source": [
    "# 3.Create a 8x8 matrix and fill it with a checkerboard pattern"
   ]
  },
  {
   "cell_type": "code",
   "execution_count": 93,
   "metadata": {},
   "outputs": [
    {
     "data": {
      "text/plain": [
       "array([[0, 1, 0, 1, 0, 1, 0, 1],\n",
       "       [1, 0, 1, 0, 1, 0, 1, 0],\n",
       "       [0, 1, 0, 1, 0, 1, 0, 1],\n",
       "       [1, 0, 1, 0, 1, 0, 1, 0],\n",
       "       [0, 1, 0, 1, 0, 1, 0, 1],\n",
       "       [1, 0, 1, 0, 1, 0, 1, 0],\n",
       "       [0, 1, 0, 1, 0, 1, 0, 1],\n",
       "       [1, 0, 1, 0, 1, 0, 1, 0]])"
      ]
     },
     "execution_count": 93,
     "metadata": {},
     "output_type": "execute_result"
    }
   ],
   "source": [
    "a=np.zeros((8,8),dtype=int)\n",
    "a\n",
    "a[1::2,0::2]=1\n",
    "a[0::2,1::2]=1\n",
    "a"
   ]
  },
  {
   "cell_type": "markdown",
   "metadata": {},
   "source": [
    "# 4. Normalize a 5x5 random matrix"
   ]
  },
  {
   "cell_type": "code",
   "execution_count": 48,
   "metadata": {},
   "outputs": [
    {
     "name": "stdout",
     "output_type": "stream",
     "text": [
      "Array before normalization\n",
      "[[72 42 57 21  7]\n",
      " [26 27 48 74 81]\n",
      " [15 89 23 77 95]\n",
      " [87 37 85 95 23]\n",
      " [39 41 84  8 55]]\n",
      "====================================================================================================\n",
      "Array after normalization\n",
      "[[0.69647349 0.4062762  0.55137485 0.2031381  0.0677127 ]\n",
      " [0.20719927 0.21516847 0.38252173 0.589721   0.64550542]\n",
      " [0.09758175 0.57898503 0.14962535 0.50091963 0.61801773]\n",
      " [0.54251169 0.23072336 0.53004016 0.59239782 0.14342263]\n",
      " [0.33757694 0.35488858 0.7270888  0.06924655 0.47607005]]\n",
      "====================================================================================================\n"
     ]
    }
   ],
   "source": [
    "from sklearn.preprocessing import normalize\n",
    "randnums= np.random.randint(1,100, size=(5,5))\n",
    "print(\"Array before normalization\")\n",
    "print(randnums)\n",
    "print(\"=\"*100)\n",
    "randnums1 = normalize(randnums)\n",
    "print(\"Array after normalization\")\n",
    "print(randnums1)\n",
    "print(\"=\"*100)\n"
   ]
  },
  {
   "cell_type": "markdown",
   "metadata": {},
   "source": [
    "# 5.  How to find common values between two arrays?"
   ]
  },
  {
   "cell_type": "code",
   "execution_count": 50,
   "metadata": {},
   "outputs": [
    {
     "data": {
      "text/plain": [
       "array([10, 40])"
      ]
     },
     "execution_count": 50,
     "metadata": {},
     "output_type": "execute_result"
    }
   ],
   "source": [
    "#Using intersect1d function\n",
    "array1 = np.array([0, 10, 20, 40, 60])\n",
    "array2 = np.array([10, 30, 40])\n",
    "np.intersect1d(array1, array2)\n"
   ]
  },
  {
   "cell_type": "markdown",
   "metadata": {},
   "source": [
    "# 6.How to get the dates of yesterday, today and tomorrow?"
   ]
  },
  {
   "cell_type": "code",
   "execution_count": 59,
   "metadata": {},
   "outputs": [
    {
     "name": "stdout",
     "output_type": "stream",
     "text": [
      "Today: 2020-07-27\n",
      "Yesterday: 2020-07-26\n",
      "Yesterday: 2020-07-28\n"
     ]
    }
   ],
   "source": [
    "a = np.datetime64('today')\n",
    "print(\"Today:\",a)\n",
    "b = np.datetime64('today')- np.timedelta64(1)\n",
    "print(\"Yesterday:\",b)\n",
    "c = np.datetime64('today')+ np.timedelta64(1)\n",
    "print(\"Yesterday:\",c)"
   ]
  },
  {
   "cell_type": "markdown",
   "metadata": {},
   "source": [
    "# 7. Consider two random array A and B, check if they are equal"
   ]
  },
  {
   "cell_type": "code",
   "execution_count": 63,
   "metadata": {},
   "outputs": [
    {
     "name": "stdout",
     "output_type": "stream",
     "text": [
      "[87 36 21 11 48]\n",
      "[81 42 54 35 93]\n",
      "[False False False False False]\n",
      "False\n"
     ]
    }
   ],
   "source": [
    "a= np.random.randint(1,100, size=(5))\n",
    "b= np.random.randint(1,100, size=(5))\n",
    "print(a)\n",
    "print(b)\n",
    "print(np.equal(a,b)) # this is to check each element of array\n",
    "c = a==b\n",
    "print(c.all()) # to check if array is indentical"
   ]
  },
  {
   "cell_type": "markdown",
   "metadata": {},
   "source": [
    "# 8.Create random vector of size 10 and replace the maximum value by 0 "
   ]
  },
  {
   "cell_type": "code",
   "execution_count": 96,
   "metadata": {},
   "outputs": [
    {
     "name": "stdout",
     "output_type": "stream",
     "text": [
      "Array is [33  5 54 75 19 82 13  6 21 80]\n",
      "Maximum element in array is 82\n",
      "Index of maximum element is 5\n",
      "Array after replacing macx value with 0 is [33  5 54 75 19  0 13  6 21 80]\n"
     ]
    }
   ],
   "source": [
    "a= np.random.randint(1,100, size=(10))\n",
    "print(\"Array is\",a)\n",
    "print(\"Maximum element in array is\",max(a))\n",
    "index = np.argmax(a)\n",
    "print(\"Index of maximum element is\",index)\n",
    "a[index]=0\n",
    "print(\"Array after replacing macx value with 0 is\",a)"
   ]
  },
  {
   "cell_type": "markdown",
   "metadata": {},
   "source": [
    "# 9. How to print all the values of an array?"
   ]
  },
  {
   "cell_type": "code",
   "execution_count": 64,
   "metadata": {},
   "outputs": [
    {
     "name": "stdout",
     "output_type": "stream",
     "text": [
      "[26 39 88 68  5]\n",
      "[13 42 98 50  1]\n"
     ]
    }
   ],
   "source": [
    "#Using  print() \n",
    "a= np.random.randint(1,100, size=(5))\n",
    "b= np.random.randint(1,100, size=(5))\n",
    "print(a)\n",
    "print(b)"
   ]
  },
  {
   "cell_type": "markdown",
   "metadata": {},
   "source": [
    "# 10.Subtract the mean of each row of a matrix"
   ]
  },
  {
   "cell_type": "code",
   "execution_count": 86,
   "metadata": {},
   "outputs": [
    {
     "name": "stdout",
     "output_type": "stream",
     "text": [
      "[[58 45 78 17  9]\n",
      " [71 98 26 11 24]\n",
      " [28 57 34 86 15]\n",
      " [ 3 71 72 92 62]\n",
      " [64 18  3 45 95]]\n",
      "[[ 16.6   3.6  36.6 -24.4 -32.4]\n",
      " [ 25.   52.  -20.  -35.  -22. ]\n",
      " [-16.   13.  -10.   42.  -29. ]\n",
      " [-57.   11.   12.   32.    2. ]\n",
      " [ 19.  -27.  -42.    0.   50. ]]\n"
     ]
    }
   ],
   "source": [
    "a = np.random.randint(1,100, size=(5,5))\n",
    "print(a)\n",
    "c= a-a.mean(axis=1,keepdims=True)\n",
    "print(c)\n"
   ]
  },
  {
   "cell_type": "markdown",
   "metadata": {},
   "source": [
    "# 11.Consider a given vector, how to add 1 to each element indexed by a second vector (be careful with repeated indices)? "
   ]
  },
  {
   "cell_type": "code",
   "execution_count": 25,
   "metadata": {},
   "outputs": [
    {
     "name": "stdout",
     "output_type": "stream",
     "text": [
      "Array is  [10 25 26 49 99 28 24 70 72 32 62 49 71 15 70 12 11 51 33 21 45 19 75 82\n",
      " 28 21  7 56 56 98  5 10 98 69 73 31 75  1 61 49 49 23 77 98 22 44 10 93\n",
      " 51 91 65 28 60  9 63 87 56 91 10 95 70 82 17 73 46 56 56 35 82 14 48 57\n",
      " 88 19 49 12 21 82 89 30 46 50 49 74  1 57 65 46 21 86 55 16 92 42 62 82\n",
      " 36 21 26 50]\n",
      "Indexs are  [3 8 3 2 4 6 2 1 5 9]\n",
      "Fetched array before adding 1 [49 72 49 26 99 24 26 25 28 32]\n",
      "New array [ 50  73  50  27 100  25  27  26  29  33]\n"
     ]
    }
   ],
   "source": [
    "a= np.random.randint(1,100, size=(100))\n",
    "print(\"Array is \",a)\n",
    "b= np.random.randint(1,10, size=(10))\n",
    "print(\"Indexs are \",b)\n",
    "c = a[b]\n",
    "print(\"Fetched array before adding 1\",c)\n",
    "c=c+1\n",
    "print(\"New array\",c)"
   ]
  },
  {
   "cell_type": "markdown",
   "metadata": {},
   "source": [
    "# 12.How to get the diagonal of a dot product?"
   ]
  },
  {
   "cell_type": "code",
   "execution_count": 115,
   "metadata": {},
   "outputs": [
    {
     "name": "stdout",
     "output_type": "stream",
     "text": [
      "[[38 13 47]\n",
      " [94 66 97]\n",
      " [42 19 26]]\n",
      "[[45 87 39]\n",
      " [72 52 12]\n",
      " [ 4 48 23]]\n",
      "Dot produt is\n",
      "[[ 2834  6238  2719]\n",
      " [ 9370 16266  6689]\n",
      " [ 3362  5890  2464]]\n",
      "Dignola is [ 2834 16266  2464]\n"
     ]
    }
   ],
   "source": [
    "a = np.random.randint(1,100, size=(3,3))\n",
    "b = np.random.randint(1,100, size=(3,3))\n",
    "print(a)\n",
    "print(b)\n",
    "c = np.dot(a,b)\n",
    "print(\"Dot produt is\")\n",
    "print(c)\n",
    "d = np.diag(c)\n",
    "print(\"Dignola is\",d)"
   ]
  },
  {
   "cell_type": "markdown",
   "metadata": {},
   "source": [
    "# 13.How to find the most frequent value in an array?"
   ]
  },
  {
   "cell_type": "code",
   "execution_count": 99,
   "metadata": {},
   "outputs": [
    {
     "name": "stdout",
     "output_type": "stream",
     "text": [
      "Array is [86  5 48 29 92 67 87 65 75 42 28 94 96 54 67 70 99 48 36 24 58 68 34 50\n",
      "  4]\n",
      "48\n"
     ]
    }
   ],
   "source": [
    "a = np.random.randint(1,100, size=(25))\n",
    "print(\"Array is\",a)\n",
    "print(np.bincount(a).argmax())"
   ]
  },
  {
   "cell_type": "markdown",
   "metadata": {},
   "source": [
    "# 14.How to get the n largest values of an array"
   ]
  },
  {
   "cell_type": "code",
   "execution_count": 111,
   "metadata": {},
   "outputs": [
    {
     "name": "stdout",
     "output_type": "stream",
     "text": [
      "[95 52 10 86 81 93 77 46 99 82 82 46 38 52 37 43 13 58 21 98 61 56  2 56\n",
      " 23]\n",
      "Enter value of n3\n",
      "99\n",
      "98\n",
      "95\n"
     ]
    }
   ],
   "source": [
    "a = np.random.randint(1,100, size=(25))\n",
    "print(a)\n",
    "b = -np.sort(-a)\n",
    "n = input(\"Enter value of n\")\n",
    "count = 0\n",
    "while count<int(n):\n",
    "    print(b[count])\n",
    "    count+=1\n"
   ]
  },
  {
   "cell_type": "markdown",
   "metadata": {},
   "source": [
    "# 15.How to create a record array from a regular array?"
   ]
  },
  {
   "cell_type": "code",
   "execution_count": 117,
   "metadata": {},
   "outputs": [
    {
     "name": "stdout",
     "output_type": "stream",
     "text": [
      "[(20, 48) ( 6, 56) (36,  2) (45, 72) ( 2, 72)]\n"
     ]
    }
   ],
   "source": [
    "a = np.random.randint(1,100, size=(5))\n",
    "b = np.random.randint(1,100, size=(5))\n",
    "c = np.core.records.fromarrays([a,b])\n",
    "print(c)"
   ]
  },
  {
   "cell_type": "code",
   "execution_count": null,
   "metadata": {},
   "outputs": [],
   "source": []
  }
 ],
 "metadata": {
  "kernelspec": {
   "display_name": "Python 3",
   "language": "python",
   "name": "python3"
  },
  "language_info": {
   "codemirror_mode": {
    "name": "ipython",
    "version": 3
   },
   "file_extension": ".py",
   "mimetype": "text/x-python",
   "name": "python",
   "nbconvert_exporter": "python",
   "pygments_lexer": "ipython3",
   "version": "3.7.6"
  }
 },
 "nbformat": 4,
 "nbformat_minor": 2
}
