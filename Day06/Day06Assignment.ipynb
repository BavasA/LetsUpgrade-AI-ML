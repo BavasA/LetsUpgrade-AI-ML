{
  "nbformat": 4,
  "nbformat_minor": 0,
  "metadata": {
    "colab": {
      "name": "Day06Assignment.ipynb",
      "provenance": [],
      "collapsed_sections": []
    },
    "kernelspec": {
      "name": "python3",
      "display_name": "Python 3"
    }
  },
  "cells": [
    {
      "cell_type": "code",
      "metadata": {
        "id": "x5Rg6ZFJKRLa",
        "colab_type": "code",
        "colab": {}
      },
      "source": [
        ""
      ],
      "execution_count": null,
      "outputs": []
    },
    {
      "cell_type": "markdown",
      "metadata": {
        "id": "73n3P1wBKWzs",
        "colab_type": "text"
      },
      "source": [
        "1.Assuming that we have some email addresses in the \"username@companyname.com\" format, please write programto print the company name of a given email address. Both user names and company names are composed of lettersonly"
      ]
    },
    {
      "cell_type": "code",
      "metadata": {
        "id": "Mcw1bvsZKZIK",
        "colab_type": "code",
        "colab": {
          "base_uri": "https://localhost:8080/",
          "height": 54
        },
        "outputId": "8cbaa8e5-2fc8-4752-a4ca-8f9d9e9861df"
      },
      "source": [
        "def getCompanyName(email):\n",
        "    return email.split(\"@\")[1].split(\".\")[0]\n",
        "\n",
        "print(getCompanyName(input(\"Enter email address:\")))"
      ],
      "execution_count": 3,
      "outputs": [
        {
          "output_type": "stream",
          "text": [
            "Enter email address:hello@google.com\n",
            "google\n"
          ],
          "name": "stdout"
        }
      ]
    },
    {
      "cell_type": "markdown",
      "metadata": {
        "id": "CxyVGWkbKw9Q",
        "colab_type": "text"
      },
      "source": [
        "2.Write a program that accepts a comma-separated sequence of words as input and prints the words in a commaseparated sequence after sorting them alphabetically"
      ]
    },
    {
      "cell_type": "code",
      "metadata": {
        "id": "lbnYnVwCP23J",
        "colab_type": "code",
        "colab": {
          "base_uri": "https://localhost:8080/",
          "height": 54
        },
        "outputId": "4cd4268d-dd0c-4e13-a405-e6e7ce723871"
      },
      "source": [
        "user_input = input(\"Enter your input seprated by comma:\")\n",
        "user_list = user_input.split(\",\")\n",
        "user_list.sort()\n",
        "output_string = \",\".join(user_list)\n",
        "print(output_string)"
      ],
      "execution_count": 6,
      "outputs": [
        {
          "output_type": "stream",
          "text": [
            "Enter your input seprated by comma:without,hello,bag,world\n",
            "bag,hello,without,world\n"
          ],
          "name": "stdout"
        }
      ]
    },
    {
      "cell_type": "markdown",
      "metadata": {
        "id": "T7wCSs5ikJLf",
        "colab_type": "text"
      },
      "source": [
        "Create your own Jupyter Notebook for Sets.Reference link: https://www.w3schools.com/python/python_sets.asp"
      ]
    },
    {
      "cell_type": "code",
      "metadata": {
        "id": "1VqvDh2hkKaL",
        "colab_type": "code",
        "colab": {
          "base_uri": "https://localhost:8080/",
          "height": 219
        },
        "outputId": "2d7fbc01-6de5-43d9-c878-4bad297033a4"
      },
      "source": [
        "thisset = {\"apple\", \"banana\", \"cherry\"}\n",
        "print(thisset) \n",
        "#Print Set using loop\n",
        "for x in thisset:\n",
        "  print(x) \n",
        "#check if item is present in list\n",
        "print(\"asadsa\" in thisset)\n",
        "#add new item to list\n",
        "thisset.add(\"lemon\")\n",
        "print(thisset)\n",
        "#update list\n",
        "l = [\"jack fruit\",\"pomogranet\",\"orange\"]\n",
        "thisset.update(l)\n",
        "print(thisset)\n",
        "#length of set\n",
        "len(thisset)\n",
        "#remove item\n",
        "thisset.remove(\"cherry\")\n",
        "print(thisset)\n",
        "#pop removes last element in the set\n",
        "x = thisset.pop()\n",
        "print(x)\n",
        "print(thisset)\n",
        "#clear removes all element form the set\n",
        "thisset.clear()\n",
        "print(thisset)"
      ],
      "execution_count": 15,
      "outputs": [
        {
          "output_type": "stream",
          "text": [
            "{'apple', 'banana', 'cherry'}\n",
            "apple\n",
            "banana\n",
            "cherry\n",
            "False\n",
            "{'apple', 'lemon', 'banana', 'cherry'}\n",
            "{'orange', 'pomogranet', 'banana', 'lemon', 'apple', 'jack fruit', 'cherry'}\n",
            "{'orange', 'pomogranet', 'banana', 'lemon', 'apple', 'jack fruit'}\n",
            "orange\n",
            "{'pomogranet', 'banana', 'lemon', 'apple', 'jack fruit'}\n",
            "set()\n"
          ],
          "name": "stdout"
        }
      ]
    },
    {
      "cell_type": "markdown",
      "metadata": {
        "id": "UE1NzO1U6XnX",
        "colab_type": "text"
      },
      "source": [
        "4.Given a list of n-1 numbers ranging from 1 to n, your task is to find the missing number. There are no duplicates.Input Format:The first line contains n-1 numbers with each number separated by a space.Output Format:Print the missing numberExample:Input:1 2 4 6 3 7 8Output:5Explanation:In the above list of numbers 5 is missing and hence 5 is the inpu\n"
      ]
    },
    {
      "cell_type": "code",
      "metadata": {
        "id": "CDQ7NwR46boU",
        "colab_type": "code",
        "colab": {
          "base_uri": "https://localhost:8080/",
          "height": 35
        },
        "outputId": "ba5e956f-b60a-4feb-9bb9-ff2167d7c533"
      },
      "source": [
        "given_list = [1,2,3,4,6,7,8,9]\n",
        "prepared_list = list(range(1,len(given_list)+1))\n",
        "\n",
        "for x in prepared_list:\n",
        "    if x not in given_list:\n",
        "        print(x)\n"
      ],
      "execution_count": 16,
      "outputs": [
        {
          "output_type": "stream",
          "text": [
            "5\n"
          ],
          "name": "stdout"
        }
      ]
    },
    {
      "cell_type": "markdown",
      "metadata": {
        "id": "2uPsb-Lg74nJ",
        "colab_type": "text"
      },
      "source": [
        "5. With a given list L, write a program to print this list L after removing all duplicate values with original order reserved.Example:If the input list is12 24 35 24 88 120 155 88 120 155Then the output should be12 24 35 88 120 155Explanation:Third, seventh and ninth element of the list L has been removed because it was already present.Input Format:In one line take the elements of the list L with each element separated by a space.Output Format:Print the elements of the modified list in one line with each element separated by a space.Example:Input: 12 24 35 24Output:12 24 35"
      ]
    },
    {
      "cell_type": "code",
      "metadata": {
        "id": "SAoXDqte8Kmd",
        "colab_type": "code",
        "colab": {
          "base_uri": "https://localhost:8080/",
          "height": 35
        },
        "outputId": "f66ec6d5-f08b-4d04-c656-5d3e722c8e3e"
      },
      "source": [
        "input_list = [12,24,35,24,88,120,155,88,120,155]\n",
        "output_list=[]\n",
        "\n",
        "for x in input_list:\n",
        "    if x not in output_list:\n",
        "        output_list.append(x)\n",
        "\n",
        "print(output_list)"
      ],
      "execution_count": 17,
      "outputs": [
        {
          "output_type": "stream",
          "text": [
            "[12, 24, 35, 88, 120, 155]\n"
          ],
          "name": "stdout"
        }
      ]
    }
  ]
}