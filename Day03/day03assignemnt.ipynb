{
  "nbformat": 4,
  "nbformat_minor": 0,
  "metadata": {
    "colab": {
      "name": "day03assignemnt.ipynb",
      "provenance": [],
      "collapsed_sections": []
    },
    "kernelspec": {
      "name": "python3",
      "display_name": "Python 3"
    }
  },
  "cells": [
    {
      "cell_type": "markdown",
      "metadata": {
        "id": "LDR45mXbSKxd",
        "colab_type": "text"
      },
      "source": [
        "1. Write a program to subtract two complex numbers in Python."
      ]
    },
    {
      "cell_type": "code",
      "metadata": {
        "id": "2m7E80iFSOWj",
        "colab_type": "code",
        "colab": {
          "base_uri": "https://localhost:8080/",
          "height": 35
        },
        "outputId": "cfd10afd-6f3b-4d63-f9af-a07143837f5e"
      },
      "source": [
        "a = 23+4j\n",
        "b= 10+2j\n",
        "c = a-b\n",
        "print(c)"
      ],
      "execution_count": 10,
      "outputs": [
        {
          "output_type": "stream",
          "text": [
            "(13+2j)\n"
          ],
          "name": "stdout"
        }
      ]
    },
    {
      "cell_type": "markdown",
      "metadata": {
        "id": "VFPl5_jQSahc",
        "colab_type": "text"
      },
      "source": [
        "2.Write a program to find the fourth root of a number."
      ]
    },
    {
      "cell_type": "code",
      "metadata": {
        "id": "8-NTLpJuTJ6M",
        "colab_type": "code",
        "colab": {
          "base_uri": "https://localhost:8080/",
          "height": 35
        },
        "outputId": "b904607e-7862-4c24-9d41-0cc94772e311"
      },
      "source": [
        "number = 625\n",
        "x=4\n",
        "xroot = number**(1/x)\n",
        "print(xroot)"
      ],
      "execution_count": 14,
      "outputs": [
        {
          "output_type": "stream",
          "text": [
            "5.0\n"
          ],
          "name": "stdout"
        }
      ]
    },
    {
      "cell_type": "markdown",
      "metadata": {
        "id": "yHhv6z4XWgp1",
        "colab_type": "text"
      },
      "source": [
        "3.Write a program to swap two numbers in Python with the help of a temporary variable."
      ]
    },
    {
      "cell_type": "code",
      "metadata": {
        "id": "10lT4WCkWjrE",
        "colab_type": "code",
        "colab": {
          "base_uri": "https://localhost:8080/",
          "height": 90
        },
        "outputId": "6ace24a4-79d3-4246-d16e-1c3a0ed6dddc"
      },
      "source": [
        "a=1\n",
        "b=2\n",
        "print(\"a before swapping is\",a)\n",
        "print(\"b before swapping is\",b)\n",
        "temp=a\n",
        "a=b\n",
        "b=temp\n",
        "print(\"a after swapping is\",a)\n",
        "print(\"b after swapping is\",b)\n"
      ],
      "execution_count": 16,
      "outputs": [
        {
          "output_type": "stream",
          "text": [
            "a before swapping is 1\n",
            "b before swapping is 2\n",
            "a after swapping is 2\n",
            "b after swapping is 1\n"
          ],
          "name": "stdout"
        }
      ]
    },
    {
      "cell_type": "markdown",
      "metadata": {
        "id": "op3uYuXpXXtV",
        "colab_type": "text"
      },
      "source": [
        "4.Write a program to swap two numbers in Python without using a temporary variable."
      ]
    },
    {
      "cell_type": "code",
      "metadata": {
        "id": "yVPKO1a2XY1-",
        "colab_type": "code",
        "colab": {
          "base_uri": "https://localhost:8080/",
          "height": 90
        },
        "outputId": "dde48545-43b1-4f5a-dd41-05eeed477e80"
      },
      "source": [
        "a=1\n",
        "b=2\n",
        "print(\"a before swapping is\",a)\n",
        "print(\"b before swapping is\",b)\n",
        "a,b = b,a\n",
        "print(\"a after swapping is\",a)\n",
        "print(\"b after swapping is\",b)"
      ],
      "execution_count": 17,
      "outputs": [
        {
          "output_type": "stream",
          "text": [
            "a before swapping is 1\n",
            "b before swapping is 2\n",
            "a after swapping is 2\n",
            "b after swapping is 1\n"
          ],
          "name": "stdout"
        }
      ]
    },
    {
      "cell_type": "markdown",
      "metadata": {
        "id": "akK6jHhLYHLV",
        "colab_type": "text"
      },
      "source": [
        "5.Write a program to convert fahrenheit to kelvin and celsius both.\n"
      ]
    },
    {
      "cell_type": "code",
      "metadata": {
        "id": "KAn1m6RTYMEM",
        "colab_type": "code",
        "colab": {
          "base_uri": "https://localhost:8080/",
          "height": 54
        },
        "outputId": "25665c41-cd4f-466b-b62e-d8ba2d2d0808"
      },
      "source": [
        "franheit = 100\n",
        "celcius = (franheit-32)*5/9\n",
        "print(celcius)\n",
        "kelvin = 273.5 + celcius\n",
        "print(kelvin)"
      ],
      "execution_count": 20,
      "outputs": [
        {
          "output_type": "stream",
          "text": [
            "37.77777777777778\n",
            "311.27777777777777\n"
          ],
          "name": "stdout"
        }
      ]
    },
    {
      "cell_type": "markdown",
      "metadata": {
        "id": "LwpsfB01Y2li",
        "colab_type": "text"
      },
      "source": [
        "6.Write a program to demonstrate all the available data types in Python. Hint: Use type() function."
      ]
    },
    {
      "cell_type": "code",
      "metadata": {
        "id": "omttMrEEY6bk",
        "colab_type": "code",
        "colab": {
          "base_uri": "https://localhost:8080/",
          "height": 90
        },
        "outputId": "562eaadf-09f8-4623-ad9c-1c45a211e3fc"
      },
      "source": [
        "a = 5\n",
        "b = 5.00\n",
        "c= \"hello world\"\n",
        "d = 5+2j\n",
        "print(type(a))\n",
        "print(type(6))\n",
        "print(type(c))\n",
        "print(type(d))\n"
      ],
      "execution_count": 23,
      "outputs": [
        {
          "output_type": "stream",
          "text": [
            "<class 'int'>\n",
            "<class 'int'>\n",
            "<class 'str'>\n",
            "<class 'complex'>\n"
          ],
          "name": "stdout"
        }
      ]
    },
    {
      "cell_type": "markdown",
      "metadata": {
        "id": "cc52_iKCZRV4",
        "colab_type": "text"
      },
      "source": [
        "7.Create a Markdown cell in jupyter and list the steps discussed in the session by Dr. DarshanIngle sir to create Github profile and upload Githubs Assignment link\n"
      ]
    },
    {
      "cell_type": "markdown",
      "metadata": {
        "id": "k0_t7tWtZTte",
        "colab_type": "text"
      },
      "source": [
        "\n",
        "\n",
        "1.   Go to github.com\n",
        "2. Log in using your gmail\n",
        "3. click on new button next to repository\n",
        "4. creae a public repositort with name \"LetsUpgrade-AI-ML\"\n",
        "5. click on Add file -> Upload filed and drag drop the assignments folder\n",
        "\n",
        "\n",
        "\n",
        "\n"
      ]
    }
  ]
}