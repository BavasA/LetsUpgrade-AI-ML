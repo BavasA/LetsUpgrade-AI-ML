{
  "nbformat": 4,
  "nbformat_minor": 0,
  "metadata": {
    "colab": {
      "name": "day04Assignment.ipynb",
      "provenance": [],
      "collapsed_sections": []
    },
    "kernelspec": {
      "name": "python3",
      "display_name": "Python 3"
    }
  },
  "cells": [
    {
      "cell_type": "markdown",
      "metadata": {
        "id": "QYwnqhMIC5TS",
        "colab_type": "text"
      },
      "source": [
        "1.Research on whether addition, subtraction, multiplication, division, floor division and modulooperations be performed on complex numbers. Based on your study, implement a Pythonprogram to demonstrate these operations"
      ]
    },
    {
      "cell_type": "code",
      "metadata": {
        "id": "GjWzvv5UC-Em",
        "colab_type": "code",
        "colab": {
          "base_uri": "https://localhost:8080/",
          "height": 90
        },
        "outputId": "401df984-e435-4a50-8d73-f06263fc1f8e"
      },
      "source": [
        "a= 10+5j\n",
        "b= 5+2j\n",
        "print(a+b)\n",
        "print(a-b)\n",
        "print(a*b)\n",
        "print(a/b)\n",
        "# Complex number floor division and modulus is not suppported"
      ],
      "execution_count": 8,
      "outputs": [
        {
          "output_type": "stream",
          "text": [
            "(15+7j)\n",
            "(5+3j)\n",
            "(40+45j)\n",
            "(2.0689655172413794+0.1724137931034483j)\n"
          ],
          "name": "stdout"
        }
      ]
    },
    {
      "cell_type": "markdown",
      "metadata": {
        "id": "sbQKEeJxDsWk",
        "colab_type": "text"
      },
      "source": [
        "2. Research on range() functions and its parameters. Create a markdown cell and write in your ownwords (no copy-paste from google please) what you understand about it. Implement a smallprogram of your choice on the same."
      ]
    },
    {
      "cell_type": "markdown",
      "metadata": {
        "id": "SajOAgh3F6wN",
        "colab_type": "text"
      },
      "source": [
        "**Answer:** range() is inbuilt function in python which is used to genrate series of numbers and mostly used in loops.\n",
        "below are overloaded range funtion types\n",
        "range(10) -> will genrate numbers from 0,1,...9\n",
        "range(5,20) -> will genrate numbers from 5,6....19\n",
        "range(1,20,2) -> will genrate numbers from 1,3,5...19"
      ]
    },
    {
      "cell_type": "code",
      "metadata": {
        "id": "AaD0IlSJDzGk",
        "colab_type": "code",
        "colab": {
          "base_uri": "https://localhost:8080/",
          "height": 421
        },
        "outputId": "6bee8db5-5c69-4314-e67e-73dd95653215"
      },
      "source": [
        "for i in range(10):\n",
        "  print(i)\n",
        "print(\"=\"*40)\n",
        "for i in range(5,10):\n",
        "  print(i)\n",
        "print(\"=\"*40)\n",
        "for i in range(0,10,2):\n",
        "  print(i)\n"
      ],
      "execution_count": 13,
      "outputs": [
        {
          "output_type": "stream",
          "text": [
            "0\n",
            "1\n",
            "2\n",
            "3\n",
            "4\n",
            "5\n",
            "6\n",
            "7\n",
            "8\n",
            "9\n",
            "========================================\n",
            "5\n",
            "6\n",
            "7\n",
            "8\n",
            "9\n",
            "========================================\n",
            "0\n",
            "2\n",
            "4\n",
            "6\n",
            "8\n"
          ],
          "name": "stdout"
        }
      ]
    },
    {
      "cell_type": "markdown",
      "metadata": {
        "id": "uMgLTv4lL5WT",
        "colab_type": "text"
      },
      "source": [
        "3.Consider two numbers. Perform their subtraction and if the result of subtraction is greater than25, print their multiplication result else print their division result"
      ]
    },
    {
      "cell_type": "code",
      "metadata": {
        "id": "0p9049S9L74g",
        "colab_type": "code",
        "colab": {
          "base_uri": "https://localhost:8080/",
          "height": 35
        },
        "outputId": "b12008ed-edae-4fca-e267-bd7613c0c562"
      },
      "source": [
        "a=20\n",
        "b=5\n",
        "c=a-b\n",
        "if c>25:\n",
        "  print(a*b)\n",
        "else:\n",
        "  print(a/b)\n",
        "  "
      ],
      "execution_count": 15,
      "outputs": [
        {
          "output_type": "stream",
          "text": [
            "4.0\n"
          ],
          "name": "stdout"
        }
      ]
    },
    {
      "cell_type": "markdown",
      "metadata": {
        "id": "T7SNxImpf7Zr",
        "colab_type": "text"
      },
      "source": [
        "4.Consider a list of 10 elements of integer values. If the number in the list is divisible by 2, print theresult as \"square of that number minus 2\""
      ]
    },
    {
      "cell_type": "code",
      "metadata": {
        "id": "arlNdcgrhvt_",
        "colab_type": "code",
        "colab": {
          "base_uri": "https://localhost:8080/",
          "height": 127
        },
        "outputId": "fe8c4d77-60cb-4103-ed40-95059af2af86"
      },
      "source": [
        "my_list =list(range(3,31,3))\n",
        "print(my_list)\n",
        "for num in my_list:\n",
        "  if num%2 == 0:\n",
        "    print(num**2-2)"
      ],
      "execution_count": 22,
      "outputs": [
        {
          "output_type": "stream",
          "text": [
            "[3, 6, 9, 12, 15, 18, 21, 24, 27, 30]\n",
            "34\n",
            "142\n",
            "322\n",
            "574\n",
            "898\n"
          ],
          "name": "stdout"
        }
      ]
    },
    {
      "cell_type": "markdown",
      "metadata": {
        "id": "RfGLXbWGjIns",
        "colab_type": "text"
      },
      "source": [
        "5.Consider a list of 10 elements. Print all the elements in the list which are greater than 7 when thatnumber is divided 2."
      ]
    },
    {
      "cell_type": "code",
      "metadata": {
        "id": "mitH-FhzjQbE",
        "colab_type": "code",
        "colab": {
          "base_uri": "https://localhost:8080/",
          "height": 127
        },
        "outputId": "607d7758-a611-4fab-803e-6d4ead904e7a"
      },
      "source": [
        "my_list =list(range(11,21))\n",
        "for num in my_list:\n",
        "  if(num/2>7):\n",
        "    print(num)"
      ],
      "execution_count": 23,
      "outputs": [
        {
          "output_type": "stream",
          "text": [
            "15\n",
            "16\n",
            "17\n",
            "18\n",
            "19\n",
            "20\n"
          ],
          "name": "stdout"
        }
      ]
    }
  ]
}